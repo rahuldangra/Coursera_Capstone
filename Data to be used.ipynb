{
 "cells": [
  {
   "cell_type": "markdown",
   "metadata": {
    "collapsed": true
   },
   "source": [
    "### Data sources to be used:\n",
    "\n",
    "### In addition to the foursquare location data, the following data will be used to solve the business problem:\n",
    "\n",
    "#### Since Toronto is the most populated city of Canada, and one of the more important business centres in Canada, we would finalize the city to start with as Toronto based on secondary research on the internet.  The objective now is to find a suitable location/area in Toronto to open the 1st restaurant and also look for potential expansion locations \n",
    "\n",
    "#### Neighbourhoods: https://open.toronto.ca/dataset/neighbourhoods/\n",
    "#### Toronto Neighbourhood Profiles: https://open.toronto.ca/dataset/neighbourhood-profiles/\n",
    "#### Borough - Neighbourhood mapping: https://en.wikipedia.org/wiki/List_of_city-designated_neighbourhoods_in_Toronto\n",
    "\n",
    "#### Factors such as population, income, age in a neighbourhood will play a role in deciding the location of restaurant(s) to be opened.\n",
    "\n",
    "#### For Example, an area where there are young, high income people, tendency of going out and spending more on eating will be higher compared to areas which have higher age and lower incomes. Total number of people living in a locality (population) is another factor to be considered for the location selection\n",
    "\n",
    "#### The data will also be visualized on maps"
   ]
  },
  {
   "cell_type": "code",
   "execution_count": null,
   "metadata": {},
   "outputs": [],
   "source": []
  }
 ],
 "metadata": {
  "kernelspec": {
   "display_name": "Python 3.6",
   "language": "python",
   "name": "python3"
  },
  "language_info": {
   "codemirror_mode": {
    "name": "ipython",
    "version": 3
   },
   "file_extension": ".py",
   "mimetype": "text/x-python",
   "name": "python",
   "nbconvert_exporter": "python",
   "pygments_lexer": "ipython3",
   "version": "3.6.9"
  }
 },
 "nbformat": 4,
 "nbformat_minor": 1
}
