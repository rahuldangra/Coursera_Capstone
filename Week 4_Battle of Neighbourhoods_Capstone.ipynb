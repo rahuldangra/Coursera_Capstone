{
 "cells": [
  {
   "cell_type": "markdown",
   "metadata": {
    "collapsed": true
   },
   "source": [
    "### An Indian restaurant chain is looking to start and expand their operations in Canada. They want to understand what their starting point and expansion strategy should be.\n",
    "\n",
    "### Business problem: Where (which location) to open an Indian restaurant in Canada?\n",
    "### Target audience: An Indian restaurant chain looking to start and expand in Canada. Restaurant industry interested in starting and expanding operations in Canada.\n",
    "\n",
    "### Purpose: This analysis will give the audience a starting point for their expansaion stragegy\n",
    "\n",
    "### More details on the data and approach mentioned in another link"
   ]
  },
  {
   "cell_type": "markdown",
   "metadata": {},
   "source": []
  }
 ],
 "metadata": {
  "kernelspec": {
   "display_name": "Python 3.6",
   "language": "python",
   "name": "python3"
  },
  "language_info": {
   "codemirror_mode": {
    "name": "ipython",
    "version": 3
   },
   "file_extension": ".py",
   "mimetype": "text/x-python",
   "name": "python",
   "nbconvert_exporter": "python",
   "pygments_lexer": "ipython3",
   "version": "3.6.9"
  }
 },
 "nbformat": 4,
 "nbformat_minor": 1
}
